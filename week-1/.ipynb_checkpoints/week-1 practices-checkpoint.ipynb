{
 "cells": [
  {
   "cell_type": "code",
   "execution_count": 1,
   "id": "5c2aa28c-7f77-4dc6-8258-99270da027a3",
   "metadata": {},
   "outputs": [
    {
     "name": "stdout",
     "output_type": "stream",
     "text": [
      "100\n",
      "Data Type of variable num is <class 'int'>\n",
      "34.45\n",
      "Data Type of variable fnum is <class 'float'>\n",
      "(3+4j)\n",
      "Data Type of variable cnum is <class 'complex'>\n"
     ]
    }
   ],
   "source": [
    "# practice 1\n",
    "# Integer number\n",
    "num = 100\n",
    "print(num)\n",
    "print(\"Data Type of variable num is\", type(num))\n",
    "\n",
    "# Float number\n",
    "fnum = 34.45\n",
    "print(fnum)\n",
    "print(\"Data Type of variable fnum is\", type(fnum))\n",
    "\n",
    "# Complex number\n",
    "cnum = 3 + 4j\n",
    "print(cnum)\n",
    "print(\"Data Type of variable cnum is\", type(cnum))\n"
   ]
  },
  {
   "cell_type": "code",
   "execution_count": 3,
   "id": "c9f2fd81-eea3-4124-a92d-a86b1f74517f",
   "metadata": {},
   "outputs": [
    {
     "name": "stdout",
     "output_type": "stream",
     "text": [
      "Hi my name is Matthew. I am String\n",
      "<class 'str'>\n",
      "Hi my name is Precious. I am also a String\n",
      "<class 'str'>\n"
     ]
    }
   ],
   "source": [
    "# practice 2\n",
    "# Python program to print strings and type\n",
    "\n",
    "# Defining string variables\n",
    "str1 = \"Hi my name is Matthew. I am String\"\n",
    "str2 = 'Hi my name is Precious. I am also a String'\n",
    "\n",
    "# Displaying string str1 and its type\n",
    "print(str1)\n",
    "print(type(str1))\n",
    "\n",
    "# Displaying string str2 and its type\n",
    "print(str2)\n",
    "print(type(str2))\n"
   ]
  },
  {
   "cell_type": "code",
   "execution_count": 5,
   "id": "7654c4dd-eb4c-4068-80d8-36d4df34c971",
   "metadata": {},
   "outputs": [
    {
     "name": "stdin",
     "output_type": "stream",
     "text": [
      "Enter Principal Amount (P):  600\n",
      "Enter Rate of Interest (R in %):  50\n",
      "Enter Time Period (T in years):  2\n",
      "Enter number of times interest is compounded per year (n):  20\n",
      "Enter Regular Payment Amount (PMT for annuity):  300\n"
     ]
    },
    {
     "name": "stdout",
     "output_type": "stream",
     "text": [
      "\n",
      "Results:\n",
      "Simple Interest Amount (A): 1200.00\n",
      "Compound Interest Amount (A): 1611.04\n",
      "Annuity Plan Amount (A): 20220.77\n"
     ]
    }
   ],
   "source": [
    "# class project\n",
    "# Python program for financial calculations\n",
    "\n",
    "# Function to calculate Simple Interest\n",
    "def simple_interest(P, R, T):\n",
    "    A = P * (1 + (R / 100) * T)\n",
    "    return A\n",
    "\n",
    "# Function to calculate Compound Interest\n",
    "def compound_interest(P, R, n, t):\n",
    "    A = P * (1 + R / n) ** (n * t)\n",
    "    return A\n",
    "\n",
    "# Function to calculate Annuity Plan\n",
    "def annuity_plan(PMT, R, n, t):\n",
    "    A = PMT * (((1 + R / n) ** (n * t) - 1) / (R / n))\n",
    "    return A\n",
    "\n",
    "# Taking inputs\n",
    "P = float(input(\"Enter Principal Amount (P): \"))\n",
    "R = float(input(\"Enter Rate of Interest (R in %): \"))\n",
    "T = float(input(\"Enter Time Period (T in years): \"))\n",
    "\n",
    "n = int(input(\"Enter number of times interest is compounded per year (n): \"))\n",
    "PMT = float(input(\"Enter Regular Payment Amount (PMT for annuity): \"))\n",
    "\n",
    "# Converting Rate from percentage\n",
    "R = R / 100  \n",
    "\n",
    "# Calculations\n",
    "simple_A = simple_interest(P, R * 100, T)  # Convert R back to percentage for SI\n",
    "compound_A = compound_interest(P, R, n, T)\n",
    "annuity_A = annuity_plan(PMT, R, n, T)\n",
    "\n",
    "# Displaying results\n",
    "print(\"\\nResults:\")\n",
    "print(f\"Simple Interest Amount (A): {simple_A:.2f}\")\n",
    "print(f\"Compound Interest Amount (A): {compound_A:.2f}\")\n",
    "print(f\"Annuity Plan Amount (A): {annuity_A:.2f}\")\n"
   ]
  },
  {
   "cell_type": "code",
   "execution_count": null,
   "id": "aa9514a1-1973-4b3a-89e7-c4f2e3ebd954",
   "metadata": {},
   "outputs": [],
   "source": []
  }
 ],
 "metadata": {
  "kernelspec": {
   "display_name": "Python [conda env:base] *",
   "language": "python",
   "name": "conda-base-py"
  },
  "language_info": {
   "codemirror_mode": {
    "name": "ipython",
    "version": 3
   },
   "file_extension": ".py",
   "mimetype": "text/x-python",
   "name": "python",
   "nbconvert_exporter": "python",
   "pygments_lexer": "ipython3",
   "version": "3.12.7"
  }
 },
 "nbformat": 4,
 "nbformat_minor": 5
}
