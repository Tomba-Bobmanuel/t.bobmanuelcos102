{
 "cells": [
  {
   "cell_type": "code",
   "execution_count": 3,
   "id": "946611be-3725-416a-a08f-87fb0df46299",
   "metadata": {},
   "outputs": [
    {
     "name": "stdout",
     "output_type": "stream",
     "text": [
      "[1, 2, 3, 4]\n",
      "[7, 8, 9, 10]\n"
     ]
    }
   ],
   "source": [
    "def modify_list(my_list):\n",
    "    my_list.append(4)\n",
    "    my_list = [7,8,9]\n",
    "    my_list.append(10)\n",
    "    return my_list\n",
    "\n",
    "original = [1,2,3]\n",
    "modified = modify_list(original)\n",
    "print(original)\n",
    "print(modified)"
   ]
  },
  {
   "cell_type": "code",
   "execution_count": null,
   "id": "de26334e-ac1e-422e-8609-1caaa9099006",
   "metadata": {},
   "outputs": [],
   "source": []
  }
 ],
 "metadata": {
  "kernelspec": {
   "display_name": "Python [conda env:base] *",
   "language": "python",
   "name": "conda-base-py"
  },
  "language_info": {
   "codemirror_mode": {
    "name": "ipython",
    "version": 3
   },
   "file_extension": ".py",
   "mimetype": "text/x-python",
   "name": "python",
   "nbconvert_exporter": "python",
   "pygments_lexer": "ipython3",
   "version": "3.12.7"
  }
 },
 "nbformat": 4,
 "nbformat_minor": 5
}
