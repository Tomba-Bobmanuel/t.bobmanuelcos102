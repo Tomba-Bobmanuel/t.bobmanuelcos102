{
 "cells": [
  {
   "cell_type": "code",
   "execution_count": 30,
   "id": "07f17030-341d-41f0-9cfe-f7d6e7f7116f",
   "metadata": {},
   "outputs": [
    {
     "name": "stdout",
     "output_type": "stream",
     "text": [
      "orl\n"
     ]
    }
   ],
   "source": [
    "words = [\"hello\", \"world\"]\n",
    "print(words[1][1:4])\n"
   ]
  },
  {
   "cell_type": "code",
   "execution_count": null,
   "id": "724ca920-0dea-4c1e-a41c-641b42748844",
   "metadata": {},
   "outputs": [],
   "source": []
  },
  {
   "cell_type": "code",
   "execution_count": null,
   "id": "9d1de9dd-f3ae-4083-8815-2c9a4f4cf756",
   "metadata": {},
   "outputs": [],
   "source": []
  },
  {
   "cell_type": "code",
   "execution_count": null,
   "id": "822b8bf9-7f4a-4993-baad-09244fd77b05",
   "metadata": {},
   "outputs": [],
   "source": []
  },
  {
   "cell_type": "code",
   "execution_count": null,
   "id": "9e7fd945-82b0-4917-8bd2-cb85956efd7c",
   "metadata": {},
   "outputs": [],
   "source": []
  }
 ],
 "metadata": {
  "kernelspec": {
   "display_name": "Python [conda env:base] *",
   "language": "python",
   "name": "conda-base-py"
  },
  "language_info": {
   "codemirror_mode": {
    "name": "ipython",
    "version": 3
   },
   "file_extension": ".py",
   "mimetype": "text/x-python",
   "name": "python",
   "nbconvert_exporter": "python",
   "pygments_lexer": "ipython3",
   "version": "3.12.7"
  }
 },
 "nbformat": 4,
 "nbformat_minor": 5
}
