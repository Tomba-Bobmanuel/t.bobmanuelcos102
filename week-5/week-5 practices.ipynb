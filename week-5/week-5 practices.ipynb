{
 "cells": [
  {
   "cell_type": "code",
   "execution_count": null,
   "id": "d62f94bb-15be-4f1f-95a6-be0864a4bb0c",
   "metadata": {},
   "outputs": [],
   "source": [
    "import tknter as tk\n",
    "from tkinterimport messagebox\n",
    "from PIL import Image,ImageTk\n",
    "\n",
    "def welcomeMessage(username):\n",
    "    #creat a tkinter window\n",
    "    window = tk.Toplevel(root)\n",
    "    window.title(\"Admin box\")\n",
    "    window.geometry(\"500x200\")\n",
    "    label_1 = tk.label(window, text=f\"Welcome  {username}\\n)\n",
    "    label_1.pack()\n",
    "\n",
    "\n",
    "    #"
   ]
  }
 ],
 "metadata": {
  "kernelspec": {
   "display_name": "Python [conda env:base] *",
   "language": "python",
   "name": "conda-base-py"
  },
  "language_info": {
   "codemirror_mode": {
    "name": "ipython",
    "version": 3
   },
   "file_extension": ".py",
   "mimetype": "text/x-python",
   "name": "python",
   "nbconvert_exporter": "python",
   "pygments_lexer": "ipython3",
   "version": "3.12.7"
  }
 },
 "nbformat": 4,
 "nbformat_minor": 5
}
