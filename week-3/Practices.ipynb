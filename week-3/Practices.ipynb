{
 "cells": [
  {
   "cell_type": "code",
   "execution_count": 1,
   "id": "60ef6fe9-9718-4a0e-87ee-19ad61d6a222",
   "metadata": {},
   "outputs": [
    {
     "name": "stdin",
     "output_type": "stream",
     "text": [
      "Enter your state of origin: Rivers state\n"
     ]
    },
    {
     "name": "stdout",
     "output_type": "stream",
     "text": [
      "Your state of origin is:  Rivers state\n",
      "The first character is:  R\n",
      "The characters starting from 3rd to 5th are:  ver\n",
      "The string starting from 3rd character is:  vers state\n",
      "State of origin two times Rivers stateRivers state\n"
     ]
    }
   ],
   "source": [
    "str = input(\"Enter your state of origin:\")\n",
    "\n",
    "print(\"Your state of origin is: \", str)\n",
    "print(\"The first character is: \", str[0])\n",
    "print(\"The characters starting from 3rd to 5th are: \", str[2:5])\n",
    "print(\"The string starting from 3rd character is: \", str[2:])\n",
    "print(\"State of origin two times\", str * 2)\n"
   ]
  },
  {
   "cell_type": "code",
   "execution_count": 3,
   "id": "bd5d5612-085b-4d83-802e-bf26a6ed4f70",
   "metadata": {},
   "outputs": [
    {
     "name": "stdin",
     "output_type": "stream",
     "text": [
      "Enter mass in kilograms:  2\n"
     ]
    },
    {
     "name": "stdout",
     "output_type": "stream",
     "text": [
      "The energy equivalent to 2.0 kg of mass is 1.7975103574736352e+17 joules.\n"
     ]
    }
   ],
   "source": [
    "# Input from user\n",
    "m = float(input(\"Enter mass in kilograms: \"))\n",
    "\n",
    "# Constant value for the speed of light in m/s\n",
    "c = 299792458\n",
    "\n",
    "# Calculating energy using Einstein's equation\n",
    "energy = m * c ** 2\n",
    "\n",
    "# Displaying the result\n",
    "print(f\"The energy equivalent to {m} kg of mass is {energy} joules.\")\n"
   ]
  },
  {
   "cell_type": "code",
   "execution_count": 5,
   "id": "94231606-4c96-46a9-8b10-e0042ca244ba",
   "metadata": {},
   "outputs": [
    {
     "name": "stdout",
     "output_type": "stream",
     "text": [
      "['Anaconda', 786, 2.23, 'Jupyter', 70.2]\n",
      "Anaconda\n",
      "[786, 2.23]\n",
      "[2.23, 'Jupyter', 70.2]\n",
      "[321, 'Python', 321, 'Python']\n",
      "['Anaconda', 786, 2.23, 'Jupyter', 70.2, 321, 'Python']\n"
     ]
    }
   ],
   "source": [
    "# Defining a list with mixed data types\n",
    "list = ['Anaconda', 786, 2.23, 'Jupyter', 70.2]\n",
    "shortlist = [321, 'Python']\n",
    "\n",
    "# Printing the entire list\n",
    "print(list)  # Prints complete list\n",
    "\n",
    "# Printing the first element of the list\n",
    "print(list[0])  # Prints first element of the list\n",
    "\n",
    "# Printing elements from index 1 to 2 (2nd till 3rd elements)\n",
    "print(list[1:3])  # Prints elements starting from 2nd till 3rd\n",
    "\n",
    "# Printing elements starting from index 2 to the end\n",
    "print(list[2:])  # Prints elements starting from 3rd element\n",
    "\n",
    "# Printing the shortlist twice\n",
    "print(shortlist * 2)  # Prints list two times\n",
    "\n",
    "# Concatenating two lists\n",
    "print(list + shortlist)  # Prints concatenated lists\n"
   ]
  },
  {
   "cell_type": "code",
   "execution_count": 7,
   "id": "9e8e8bb8-42be-4fc0-8792-c070ec8b482d",
   "metadata": {},
   "outputs": [
    {
     "name": "stdout",
     "output_type": "stream",
     "text": [
      "('Ekiti', 750, 'Oshogbo', 250, 'Akure', 500)\n",
      "500\n",
      "('Oshogbo', 250)\n",
      "(250, 'Akure', 500)\n",
      "('Abeokuta', 300, 'Ogbomoso', 'Abeokuta', 300, 'Ogbomoso', 'Abeokuta', 300, 'Ogbomoso')\n",
      "('Ekiti', 750, 'Oshogbo', 250, 'Akure', 500, 'Abeokuta', 300, 'Ogbomoso')\n"
     ]
    }
   ],
   "source": [
    "# Defining a tuple with mixed data types\n",
    "tuple = (\"Ekiti\", 750, \"Oshogbo\", 250, \"Akure\", 500)\n",
    "s_tuple = (\"Abeokuta\", 300, \"Ogbomoso\")\n",
    "\n",
    "# Prints the complete tuple\n",
    "print(tuple)\n",
    "\n",
    "# Prints the last element of the tuple\n",
    "print(tuple[-1])\n",
    "\n",
    "# Prints elements of the tuple starting from 2nd till 3rd\n",
    "print(tuple[2:4])\n",
    "\n",
    "# Prints elements of the tuple starting from the 3rd element\n",
    "print(tuple[3:])\n",
    "\n",
    "# Prints the contents of s_tuple three times\n",
    "print(s_tuple * 3)\n",
    "\n",
    "# Prints concatenated tuples\n",
    "print(tuple + s_tuple)\n"
   ]
  },
  {
   "cell_type": "code",
   "execution_count": 9,
   "id": "9b690bf5-713d-45b0-b9b9-244e2d9ee2b3",
   "metadata": {},
   "outputs": [
    {
     "name": "stdout",
     "output_type": "stream",
     "text": [
      "False\n",
      "False\n",
      "False\n",
      "False\n",
      "True\n"
     ]
    }
   ],
   "source": [
    "# Returns false as game_1 is not equal to game_2\n",
    "game_1 = 2\n",
    "game_2 = 4\n",
    "print(bool(game_1 == game_2)) \n",
    "\n",
    "# Or\n",
    "print(game_1 == game_2)\n",
    "\n",
    "# Returns False as val is None\n",
    "val = None\n",
    "print(bool(val))\n",
    "\n",
    "# Returns false as num is an empty sequence\n",
    "num = ()\n",
    "print(bool(num))\n",
    "\n",
    "# Returns true as age is boolean\n",
    "age = True\n",
    "print(bool(age))\n"
   ]
  },
  {
   "cell_type": "code",
   "execution_count": 11,
   "id": "e1acc7c0-04de-4d0d-aba6-8b443387eb0e",
   "metadata": {},
   "outputs": [
    {
     "name": "stdout",
     "output_type": "stream",
     "text": [
      "Grade = 70\n",
      "GPA = 4\n",
      "CGPA = 4\n"
     ]
    }
   ],
   "source": [
    "# Convert to int\n",
    "grade = int(70)      # grade will be 70\n",
    "gpa = int(4.9)       # gpa will be 4 (int conversion truncates decimal part)\n",
    "cgpa = int(\"4\")      # cgpa will be 4\n",
    "\n",
    "# Print the values\n",
    "print(f\"Grade = {grade}\")\n",
    "print(f\"GPA = {gpa}\")\n",
    "print(f\"CGPA = {cgpa}\")\n"
   ]
  },
  {
   "cell_type": "code",
   "execution_count": 13,
   "id": "d1631de2-abf9-4d96-b14b-ab531fe13f8b",
   "metadata": {},
   "outputs": [
    {
     "name": "stdout",
     "output_type": "stream",
     "text": [
      "Grade = 97.0\n",
      "GPA = 5.0\n",
      "CGPA = 4.7\n"
     ]
    }
   ],
   "source": [
    "# Convert to float\n",
    "\n",
    "grade = float(97)    # grade will be 97.0\n",
    "gpa = float(5)       # gpa will be 5.0\n",
    "cgpa = float(\"4.7\")  # cgpa will be 4.7\n",
    "\n",
    "print(f\"Grade = {grade}\")\n",
    "print(f\"GPA = {gpa}\")\n",
    "print(f\"CGPA = {cgpa}\")\n"
   ]
  },
  {
   "cell_type": "code",
   "execution_count": 15,
   "id": "865c8ea6-0d67-4816-8198-7fe0aa165c9e",
   "metadata": {},
   "outputs": [
    {
     "name": "stdout",
     "output_type": "stream",
     "text": [
      "Select the type of equation to solve:\n",
      "1. Quadratic Equation (Ax² + Bx + C = 0)\n",
      "2. Cubic Equation (Ax³ + Bx² + Cx + D = 0)\n",
      "3. Quartic Equation (Ax⁴ + Bx³ + Cx² + Dx + E = 0)\n"
     ]
    },
    {
     "name": "stdin",
     "output_type": "stream",
     "text": [
      "Enter your choice (1, 2, or 3):  1\n",
      "Enter coefficient A:  4\n",
      "Enter coefficient B:  2\n",
      "Enter coefficient C:  12\n"
     ]
    },
    {
     "name": "stdout",
     "output_type": "stream",
     "text": [
      "Roots of the quadratic equation: [-0.25 - 1.71391365010026*I, -0.25 + 1.71391365010026*I]\n"
     ]
    }
   ],
   "source": [
    "#Project 2\n",
    "import sympy as sp\n",
    "\n",
    "def solve_quadratic():\n",
    "    a = float(input(\"Enter coefficient A: \"))\n",
    "    b = float(input(\"Enter coefficient B: \"))\n",
    "    c = float(input(\"Enter coefficient C: \"))\n",
    "    \n",
    "    x = sp.Symbol('x')\n",
    "    equation = a*x**2 + b*x + c\n",
    "    roots = sp.solve(equation, x)\n",
    "    \n",
    "    print(\"Roots of the quadratic equation:\", roots)\n",
    "\n",
    "def solve_cubic():\n",
    "    a = float(input(\"Enter coefficient A: \"))\n",
    "    b = float(input(\"Enter coefficient B: \"))\n",
    "    c = float(input(\"Enter coefficient C: \"))\n",
    "    d = float(input(\"Enter coefficient D: \"))\n",
    "\n",
    "    x = sp.Symbol('x')\n",
    "    equation = a*x**3 + b*x**2 + c*x + d\n",
    "    roots = sp.solve(equation, x)\n",
    "\n",
    "    print(\"Roots of the cubic equation:\", roots)\n",
    "\n",
    "def solve_quartic():\n",
    "    a = float(input(\"Enter coefficient A: \"))\n",
    "    b = float(input(\"Enter coefficient B: \"))\n",
    "    c = float(input(\"Enter coefficient C: \"))\n",
    "    d = float(input(\"Enter coefficient D: \"))\n",
    "    e = float(input(\"Enter coefficient E: \"))\n",
    "\n",
    "    x = sp.Symbol('x')\n",
    "    equation = a*x**4 + b*x**3 + c*x**2 + d*x + e\n",
    "    roots = sp.solve(equation, x)\n",
    "\n",
    "    print(\"Roots of the quartic equation:\", roots)\n",
    "\n",
    "def main():\n",
    "    print(\"Select the type of equation to solve:\")\n",
    "    print(\"1. Quadratic Equation (Ax² + Bx + C = 0)\")\n",
    "    print(\"2. Cubic Equation (Ax³ + Bx² + Cx + D = 0)\")\n",
    "    print(\"3. Quartic Equation (Ax⁴ + Bx³ + Cx² + Dx + E = 0)\")\n",
    "\n",
    "    choice = input(\"Enter your choice (1, 2, or 3): \")\n",
    "\n",
    "    if choice == \"1\":\n",
    "        solve_quadratic()\n",
    "    elif choice == \"2\":\n",
    "        solve_cubic()\n",
    "    elif choice == \"3\":\n",
    "        solve_quartic()\n",
    "    else:\n",
    "        print(\"Invalid choice. Please select 1, 2, or 3.\")\n",
    "\n",
    "if __name__ == \"__main__\":\n",
    "    main()\n"
   ]
  },
  {
   "cell_type": "code",
   "execution_count": null,
   "id": "efc4ccba-8f82-43eb-83e4-26a4328215ba",
   "metadata": {},
   "outputs": [],
   "source": []
  }
 ],
 "metadata": {
  "kernelspec": {
   "display_name": "Python [conda env:base] *",
   "language": "python",
   "name": "conda-base-py"
  },
  "language_info": {
   "codemirror_mode": {
    "name": "ipython",
    "version": 3
   },
   "file_extension": ".py",
   "mimetype": "text/x-python",
   "name": "python",
   "nbconvert_exporter": "python",
   "pygments_lexer": "ipython3",
   "version": "3.12.7"
  }
 },
 "nbformat": 4,
 "nbformat_minor": 5
}
