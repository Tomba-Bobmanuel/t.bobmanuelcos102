{
 "cells": [
  {
   "cell_type": "code",
   "execution_count": 1,
   "id": "390fae4b-2923-441a-9a8e-515c1e1db926",
   "metadata": {},
   "outputs": [
    {
     "name": "stdout",
     "output_type": "stream",
     "text": [
      "10\n",
      "20\n",
      "30\n",
      "40\n",
      "50\n"
     ]
    }
   ],
   "source": [
    "#Print the given sequence of numbers using for loop\n",
    "count = [10,20,30,40,50]\n",
    "for num in count:\n",
    "    print(num)"
   ]
  },
  {
   "cell_type": "code",
   "execution_count": 9,
   "id": "c1191cf7-9f20-45eb-8329-56eaa61ee318",
   "metadata": {},
   "outputs": [
    {
     "name": "stdout",
     "output_type": "stream",
     "text": [
      "10\n",
      "20\n",
      "30\n",
      "40\n"
     ]
    }
   ],
   "source": [
    "#Print multiples of 10 for numbers in a given range\n",
    "for num in range(5):\n",
    "    if num > 0:\n",
    "        print(num*10)"
   ]
  },
  {
   "cell_type": "code",
   "execution_count": 11,
   "id": "59ba6e77-5313-4292-a5a1-8e3d03e18ff0",
   "metadata": {},
   "outputs": [
    {
     "name": "stdout",
     "output_type": "stream",
     "text": [
      "1\n",
      "2\n",
      "3\n",
      "4\n",
      "5\n"
     ]
    }
   ],
   "source": [
    "# Print first 5 natural numbers using while loop\n",
    "count = 1\n",
    "while count <= 5:\n",
    "    print(count)\n",
    "    count += 1\n"
   ]
  },
  {
   "cell_type": "code",
   "execution_count": 15,
   "id": "60e6d0bf-eedd-4c64-8471-a3f4214da565",
   "metadata": {},
   "outputs": [
    {
     "name": "stdout",
     "output_type": "stream",
     "text": [
      "Enter numbers to find their sum, negative number ends the loop:\n"
     ]
    },
    {
     "name": "stdin",
     "output_type": "stream",
     "text": [
      " 23\n",
      " -6\n"
     ]
    },
    {
     "name": "stdout",
     "output_type": "stream",
     "text": [
      "Sum = 23\n"
     ]
    }
   ],
   "source": [
    "entry = 0\n",
    "sum1 = 0\n",
    "print(\"Enter numbers to find their sum, negative number ends the loop:\")\n",
    "while True:\n",
    "    # int() typecasts string to integer\n",
    "    entry = int(input())\n",
    "    if (entry < 0):\n",
    "        break\n",
    "    sum1 += entry\n",
    "print(\"Sum =\", sum1)\n"
   ]
  },
  {
   "cell_type": "code",
   "execution_count": 21,
   "id": "7efd3eec-d004-45cf-9480-4f5cc78a4bc8",
   "metadata": {},
   "outputs": [
    {
     "name": "stdout",
     "output_type": "stream",
     "text": [
      "Iteration 1of outer loop\n",
      "Iteration 2of outer loop\n",
      "Iteration 3of outer loop\n",
      "1\n",
      "Out of inner loop\n",
      "Out of outer loop\n",
      "2\n",
      "Out of inner loop\n",
      "Out of outer loop\n"
     ]
    }
   ],
   "source": [
    "for var1 in range(3):\n",
    "    print( \"Iteration \" + str(var1 + 1) + \"of outer loop\")\n",
    "for var2 in range(2): #nested loop\n",
    "    print(var2 + 1)\n",
    "    print(\"Out of inner loop\")\n",
    "    print(\"Out of outer loop\")"
   ]
  },
  {
   "cell_type": "code",
   "execution_count": 23,
   "id": "f5324386-b606-4f82-a576-69a641a024ce",
   "metadata": {},
   "outputs": [
    {
     "name": "stdout",
     "output_type": "stream",
     "text": [
      "Name       Age   Height  Score \n",
      "--------------------------------\n",
      "Evelyn     17    5.5     80    \n",
      "Jessica    16    6.0     85    \n",
      "Somto      17    0.5     70    \n",
      "Edith      18    4.5     60    \n",
      "Liza       16    5.9     76    \n",
      "Madonna    18    5.6     66    \n",
      "Waje       17    5.5     87    \n",
      "Tola       20    6.1     95    \n",
      "Aisha      19    0.5     50    \n",
      "Latifa     17    5.5     49    \n",
      "Chinedu    19    5.7     74    \n",
      "Liam       16    5.9     87    \n",
      "Wale       18    5.8     75    \n",
      "Gbenga     17    6.1     68    \n",
      "Abiola     20    1.5     66    \n",
      "Kola       19    9.5     78    \n",
      "Kunle      16    5.6     87    \n",
      "George     18    1.5     98    \n",
      "Thomas     17    5.4     54    \n",
      "Wesley     19    8.5     60    \n"
     ]
    }
   ],
   "source": [
    "#PROJECT-1\n",
    "# Create a list of students as dictionaries\n",
    "students = [\n",
    "    # Girls\n",
    "    {\"Name\": \"Evelyn\", \"Age\": 17, \"Height\": 5.5, \"Score\": 80},\n",
    "    {\"Name\": \"Jessica\", \"Age\": 16, \"Height\": 6.0, \"Score\": 85},\n",
    "    {\"Name\": \"Somto\", \"Age\": 17, \"Height\": 0.5, \"Score\": 70},\n",
    "    {\"Name\": \"Edith\", \"Age\": 18, \"Height\": 4.5, \"Score\": 60},\n",
    "    {\"Name\": \"Liza\", \"Age\": 16, \"Height\": 5.9, \"Score\": 76},\n",
    "    {\"Name\": \"Madonna\", \"Age\": 18, \"Height\": 5.6, \"Score\": 66},\n",
    "    {\"Name\": \"Waje\", \"Age\": 17, \"Height\": 5.5, \"Score\": 87},\n",
    "    {\"Name\": \"Tola\", \"Age\": 20, \"Height\": 6.1, \"Score\": 95},\n",
    "    {\"Name\": \"Aisha\", \"Age\": 19, \"Height\": 0.5, \"Score\": 50},\n",
    "    {\"Name\": \"Latifa\", \"Age\": 17, \"Height\": 5.5, \"Score\": 49},\n",
    "\n",
    "    # Boys\n",
    "    {\"Name\": \"Chinedu\", \"Age\": 19, \"Height\": 5.7, \"Score\": 74},\n",
    "    {\"Name\": \"Liam\", \"Age\": 16, \"Height\": 5.9, \"Score\": 87},\n",
    "    {\"Name\": \"Wale\", \"Age\": 18, \"Height\": 5.8, \"Score\": 75},\n",
    "    {\"Name\": \"Gbenga\", \"Age\": 17, \"Height\": 6.1, \"Score\": 68},\n",
    "    {\"Name\": \"Abiola\", \"Age\": 20, \"Height\": 1.5, \"Score\": 66},\n",
    "    {\"Name\": \"Kola\", \"Age\": 19, \"Height\": 9.5, \"Score\": 78},\n",
    "    {\"Name\": \"Kunle\", \"Age\": 16, \"Height\": 5.6, \"Score\": 87},\n",
    "    {\"Name\": \"George\", \"Age\": 18, \"Height\": 1.5, \"Score\": 98},\n",
    "    {\"Name\": \"Thomas\", \"Age\": 17, \"Height\": 5.4, \"Score\": 54},\n",
    "    {\"Name\": \"Wesley\", \"Age\": 19, \"Height\": 8.5, \"Score\": 60}\n",
    "]\n",
    "\n",
    "# Print data in a tabular format\n",
    "print(f\"{'Name':<10} {'Age':<5} {'Height':<7} {'Score':<6}\")\n",
    "print(\"-\" * 32)\n",
    "for student in students:\n",
    "    print(f\"{student['Name']:<10} {student['Age']:<5} {student['Height']:<7} {student['Score']:<6}\")\n"
   ]
  },
  {
   "cell_type": "code",
   "execution_count": 25,
   "id": "f9812f94-8bac-4f7d-a4e6-718ed20c4e67",
   "metadata": {},
   "outputs": [
    {
     "name": "stdin",
     "output_type": "stream",
     "text": [
      "Enter years of experience:  4\n",
      "Enter age:  24\n"
     ]
    },
    {
     "name": "stdout",
     "output_type": "stream",
     "text": [
      "Annual Tax Revenue (ATR) is: ₦550,000\n"
     ]
    }
   ],
   "source": [
    "#PROJECT2\n",
    "def calculate_atr(experience, age):\n",
    "    if experience > 25 and age >= 55:\n",
    "        return 5_600_000\n",
    "    elif experience > 20 and age >= 45:\n",
    "        return 4_480_000\n",
    "    elif experience > 10 and age >= 35:\n",
    "        return 1_500_000\n",
    "    else:\n",
    "        return 550_000\n",
    "\n",
    "# Example usage\n",
    "exp = int(input(\"Enter years of experience: \"))\n",
    "age = int(input(\"Enter age: \"))\n",
    "\n",
    "atr = calculate_atr(exp, age)\n",
    "print(f\"Annual Tax Revenue (ATR) is: ₦{atr:,}\")\n"
   ]
  },
  {
   "cell_type": "code",
   "execution_count": null,
   "id": "844bac32-c332-4a61-8e93-e835c6a79f02",
   "metadata": {},
   "outputs": [],
   "source": []
  }
 ],
 "metadata": {
  "kernelspec": {
   "display_name": "Python [conda env:base] *",
   "language": "python",
   "name": "conda-base-py"
  },
  "language_info": {
   "codemirror_mode": {
    "name": "ipython",
    "version": 3
   },
   "file_extension": ".py",
   "mimetype": "text/x-python",
   "name": "python",
   "nbconvert_exporter": "python",
   "pygments_lexer": "ipython3",
   "version": "3.12.7"
  }
 },
 "nbformat": 4,
 "nbformat_minor": 5
}
